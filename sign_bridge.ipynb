{
 "cells": [
  {
   "cell_type": "markdown",
   "id": "b236575a",
   "metadata": {},
   "source": [
    "# CNN MODEL FOR AMERICAN SIGN LANGUAGE"
   ]
  },
  {
   "cell_type": "markdown",
   "id": "a87ad2d9",
   "metadata": {},
   "source": [
    "the dataset is taken from kaggle .\n",
    "It contains total of 87000 images and i had removed some images from training set and added to testing set.\n",
    "the dataset contains 86972 training images and 55 testing images  of 200x200 of size , with their lables ."
   ]
  },
  {
   "cell_type": "markdown",
   "id": "5d664869",
   "metadata": {},
   "source": [
    "1. `x_train`: Images used for training the neural network\n",
    "2. `y_train`: Correct labels for the `x_train` images, used to evaluate the model's predictions during training\n",
    "3. `x_test`: Images set aside for validating the performance of the model after it has been trained\n",
    "4. `y_test`: Correct labels for the `x_test` images, used to evaluate the model's predictions after it has been trained"
   ]
  },
  {
   "cell_type": "code",
   "execution_count": 1,
   "id": "084cab54",
   "metadata": {},
   "outputs": [
    {
     "name": "stdout",
     "output_type": "stream",
     "text": [
      "x_test shape: (55, 64, 64, 3)\n",
      "y_test shape: (55,)\n"
     ]
    }
   ],
   "source": [
    "#loading test dataset\n",
    "from PIL import Image\n",
    "from glob import glob\n",
    "import numpy as np\n",
    "import pickle\n",
    "import cv2\n",
    "import os\n",
    "\n",
    "test_dataset_path = './asl/asl_alphabet_test'\n",
    "\n",
    "# Initialize empty lists to store x_test and y_test\n",
    "x_test = []\n",
    "y_test = []\n",
    "target_size = (64, 64)\n",
    "\n",
    "# Iterate through each image in the test directory\n",
    "for image_name in os.listdir(test_dataset_path):\n",
    "    image_path = os.path.join(test_dataset_path, image_name)\n",
    "\n",
    "    # Open the image using PIL\n",
    "    img = Image.open(image_path)\n",
    "    \n",
    "    #resizing the image\n",
    "    img = img.resize(target_size)\n",
    "\n",
    "    # Convert the image to a numpy array and append to x_test\n",
    "    x_test.append(np.array(img))\n",
    "\n",
    "   \n",
    "    label = image_name.split('.')[0]\n",
    "    y_test.append(label)\n",
    "\n",
    "# Convert lists to numpy arrays for further processing\n",
    "x_test = np.array(x_test)\n",
    "y_test = np.array(y_test)\n",
    "\n",
    "# Print the shapes of x_test and y_test\n",
    "print(\"x_test shape:\", x_test.shape)\n",
    "print(\"y_test shape:\", y_test.shape)\n"
   ]
  },
  {
   "cell_type": "code",
   "execution_count": 2,
   "id": "c08b59fb",
   "metadata": {},
   "outputs": [
    {
     "name": "stdout",
     "output_type": "stream",
     "text": [
      "x_train shape: (86972, 64, 64, 3)\n",
      "y_train shape: (86972,)\n"
     ]
    }
   ],
   "source": [
    "import os\n",
    "from PIL import Image\n",
    "import numpy as np\n",
    "\n",
    "dataset_path = './asl/asl_alphabet_train'\n",
    "\n",
    "# Initialize empty lists to store x_train and y_train\n",
    "x_train = []\n",
    "y_train = []\n",
    "\n",
    "# Resize target size\n",
    "target_size = (64, 64)  # Adjust the target size as needed\n",
    "\n",
    "# Iterate through each subfolder in the train directory\n",
    "for class_name in os.listdir(dataset_path):\n",
    "    class_path = os.path.join(dataset_path, class_name)\n",
    "\n",
    "    # Check if the path is a directory\n",
    "    if os.path.isdir(class_path):\n",
    "        # Iterate through each image in the subfolder\n",
    "        for image_name in os.listdir(class_path):\n",
    "            image_path = os.path.join(class_path, image_name)\n",
    "\n",
    "            # Open the image using PIL\n",
    "            img = Image.open(image_path)\n",
    "\n",
    "\n",
    "            # Resize the image\n",
    "            img = img.resize(target_size)\n",
    "\n",
    "            # Convert the image to a numpy array and append to x_train\n",
    "            x_train.append(np.array(img))\n",
    "\n",
    "            # Append the label (class name) to y_train\n",
    "            y_train.append(class_name)\n",
    "\n",
    "# Convert lists to numpy arrays for further processing\n",
    "x_train = np.array(x_train)\n",
    "y_train = np.array(y_train)\n",
    "\n",
    "# Print the shapes of x_train and y_train\n",
    "print(\"x_train shape:\", x_train.shape)\n",
    "print(\"y_train shape:\", y_train.shape)\n"
   ]
  },
  {
   "cell_type": "markdown",
   "id": "643284cd",
   "metadata": {},
   "source": [
    "# Exploring the ASL Data"
   ]
  },
  {
   "cell_type": "code",
   "execution_count": 3,
   "id": "72a6928d",
   "metadata": {},
   "outputs": [
    {
     "data": {
      "text/plain": [
       "array([[[ 12,   7, 216],\n",
       "        [ 22,  21, 163],\n",
       "        [ 22,  19, 163],\n",
       "        ...,\n",
       "        [ 79,  71, 213],\n",
       "        [ 82,  73, 215],\n",
       "        [ 59,  52, 223]],\n",
       "\n",
       "       [[ 25,  18, 166],\n",
       "        [ 59,  50,  38],\n",
       "        [ 64,  48,  33],\n",
       "        ...,\n",
       "        [200, 183, 169],\n",
       "        [208, 188, 172],\n",
       "        [148, 133, 187]],\n",
       "\n",
       "       [[ 26,  23, 167],\n",
       "        [ 71,  55,  41],\n",
       "        [ 72,  52,  36],\n",
       "        ...,\n",
       "        [199, 180, 161],\n",
       "        [203, 183, 162],\n",
       "        [145, 131, 184]],\n",
       "\n",
       "       ...,\n",
       "\n",
       "       [[ 52,  55, 203],\n",
       "        [138, 143, 141],\n",
       "        [134, 141, 134],\n",
       "        ...,\n",
       "        [145, 138, 134],\n",
       "        [148, 141, 131],\n",
       "        [108,  99, 163]],\n",
       "\n",
       "       [[ 55,  56, 201],\n",
       "        [140, 145, 143],\n",
       "        [137, 144, 136],\n",
       "        ...,\n",
       "        [149, 139, 133],\n",
       "        [152, 142, 128],\n",
       "        [111,  99, 161]],\n",
       "\n",
       "       [[ 41,  39, 216],\n",
       "        [102, 104, 167],\n",
       "        [ 99, 105, 164],\n",
       "        ...,\n",
       "        [105, 101, 166],\n",
       "        [106, 102, 163],\n",
       "        [ 77,  71, 187]]], dtype=uint8)"
      ]
     },
     "execution_count": 3,
     "metadata": {},
     "output_type": "execute_result"
    }
   ],
   "source": [
    "x_train[0]"
   ]
  },
  {
   "cell_type": "code",
   "execution_count": 4,
   "id": "1ab1cab1",
   "metadata": {},
   "outputs": [
    {
     "data": {
      "text/plain": [
       "array([[[ 11,   8, 215],\n",
       "        [ 23,  19, 165],\n",
       "        [ 25,  18, 161],\n",
       "        ...,\n",
       "        [ 80,  72, 215],\n",
       "        [ 82,  74, 213],\n",
       "        [ 58,  52, 223]],\n",
       "\n",
       "       [[ 23,  21, 163],\n",
       "        [ 62,  50,  37],\n",
       "        [ 63,  46,  32],\n",
       "        ...,\n",
       "        [200, 184, 167],\n",
       "        [206, 187, 169],\n",
       "        [148, 133, 184]],\n",
       "\n",
       "       [[ 30,  22, 167],\n",
       "        [ 71,  56,  40],\n",
       "        [ 65,  54,  37],\n",
       "        ...,\n",
       "        [198, 180, 161],\n",
       "        [202, 182, 161],\n",
       "        [145, 131, 185]],\n",
       "\n",
       "       ...,\n",
       "\n",
       "       [[ 54,  55, 202],\n",
       "        [141, 141, 141],\n",
       "        [139, 140, 134],\n",
       "        ...,\n",
       "        [150, 140, 137],\n",
       "        [150, 139, 130],\n",
       "        [109,  98, 165]],\n",
       "\n",
       "       [[ 53,  57, 202],\n",
       "        [141, 146, 143],\n",
       "        [138, 143, 136],\n",
       "        ...,\n",
       "        [149, 141, 133],\n",
       "        [150, 143, 127],\n",
       "        [110, 100, 163]],\n",
       "\n",
       "       [[ 38,  41, 219],\n",
       "        [102, 106, 168],\n",
       "        [ 99, 103, 166],\n",
       "        ...,\n",
       "        [107,  99, 166],\n",
       "        [109, 101, 164],\n",
       "        [ 80,  72, 183]]], dtype=uint8)"
      ]
     },
     "execution_count": 4,
     "metadata": {},
     "output_type": "execute_result"
    }
   ],
   "source": [
    "x_test[0]"
   ]
  },
  {
   "cell_type": "code",
   "execution_count": 5,
   "id": "f3674021",
   "metadata": {},
   "outputs": [
    {
     "data": {
      "text/plain": [
       "array(['A', 'A', 'A', ..., 'Z', 'Z', 'Z'], dtype='<U7')"
      ]
     },
     "execution_count": 5,
     "metadata": {},
     "output_type": "execute_result"
    }
   ],
   "source": [
    "y_train"
   ]
  },
  {
   "cell_type": "code",
   "execution_count": 6,
   "id": "d0d27d33",
   "metadata": {},
   "outputs": [
    {
     "data": {
      "text/plain": [
       "array(['A', 'A', 'A', 'A', 'B', 'C', 'C', 'C', 'C', 'D', 'D', 'D', 'D',\n",
       "       'D', 'D', 'D', 'del', 'del', 'del', 'E', 'E', 'E', 'E', 'F', 'F',\n",
       "       'F', 'F', 'G', 'G', 'G', 'G', 'H', 'I', 'J', 'K', 'L', 'M', 'N',\n",
       "       'nothing', 'O', 'P', 'Q', 'Q', 'Q', 'Q', 'Q', 'S', 'space', 'T',\n",
       "       'U', 'V', 'W', 'X', 'Y', 'Z'], dtype='<U7')"
      ]
     },
     "execution_count": 6,
     "metadata": {},
     "output_type": "execute_result"
    }
   ],
   "source": [
    "y_test"
   ]
  },
  {
   "cell_type": "code",
   "execution_count": 7,
   "id": "2764d28b",
   "metadata": {},
   "outputs": [
    {
     "data": {
      "text/plain": [
       "255"
      ]
     },
     "execution_count": 7,
     "metadata": {},
     "output_type": "execute_result"
    }
   ],
   "source": [
    "x_test.max()"
   ]
  },
  {
   "cell_type": "code",
   "execution_count": 8,
   "id": "b28ba711",
   "metadata": {},
   "outputs": [
    {
     "data": {
      "text/plain": [
       "3"
      ]
     },
     "execution_count": 8,
     "metadata": {},
     "output_type": "execute_result"
    }
   ],
   "source": [
    "x_test.min()"
   ]
  },
  {
   "cell_type": "code",
   "execution_count": 9,
   "id": "99c89409",
   "metadata": {},
   "outputs": [
    {
     "data": {
      "text/plain": [
       "0"
      ]
     },
     "execution_count": 9,
     "metadata": {},
     "output_type": "execute_result"
    }
   ],
   "source": [
    "x_train.min()"
   ]
  },
  {
   "cell_type": "code",
   "execution_count": 10,
   "id": "124a1404",
   "metadata": {},
   "outputs": [
    {
     "data": {
      "text/plain": [
       "255"
      ]
     },
     "execution_count": 10,
     "metadata": {},
     "output_type": "execute_result"
    }
   ],
   "source": [
    "x_train.max()"
   ]
  },
  {
   "cell_type": "markdown",
   "id": "e223c581",
   "metadata": {},
   "source": [
    "# Preparing the Data for Training"
   ]
  },
  {
   "cell_type": "markdown",
   "id": "f0e44054",
   "metadata": {},
   "source": [
    "1.Normalize the image data, to make the image input values easier to work with for the model\n",
    "\n",
    "2.Categorize the labels, to make the label values easier to work with for the model"
   ]
  },
  {
   "cell_type": "code",
   "execution_count": 11,
   "id": "3dd2a39d",
   "metadata": {},
   "outputs": [],
   "source": [
    "#normalizing the data\n",
    "x_train = x_train / 255.0  # Scaling to the range [0, 1]\n",
    "x_test = x_test / 255.0  # Scaling to the range [0, 1]\n"
   ]
  },
  {
   "cell_type": "code",
   "execution_count": 12,
   "id": "623a6245",
   "metadata": {},
   "outputs": [],
   "source": [
    "#reshape\n",
    "x_train = x_train.reshape(-1,64,64,3)\n",
    "x_test = x_test.reshape(-1,64,64,3)"
   ]
  },
  {
   "cell_type": "code",
   "execution_count": 13,
   "id": "8fc0ee25",
   "metadata": {
    "scrolled": false
   },
   "outputs": [
    {
     "data": {
      "text/plain": [
       "array([[[0.04705882, 0.02745098, 0.84705882],\n",
       "        [0.08627451, 0.08235294, 0.63921569],\n",
       "        [0.08627451, 0.0745098 , 0.63921569],\n",
       "        ...,\n",
       "        [0.30980392, 0.27843137, 0.83529412],\n",
       "        [0.32156863, 0.28627451, 0.84313725],\n",
       "        [0.23137255, 0.20392157, 0.8745098 ]],\n",
       "\n",
       "       [[0.09803922, 0.07058824, 0.65098039],\n",
       "        [0.23137255, 0.19607843, 0.14901961],\n",
       "        [0.25098039, 0.18823529, 0.12941176],\n",
       "        ...,\n",
       "        [0.78431373, 0.71764706, 0.6627451 ],\n",
       "        [0.81568627, 0.7372549 , 0.6745098 ],\n",
       "        [0.58039216, 0.52156863, 0.73333333]],\n",
       "\n",
       "       [[0.10196078, 0.09019608, 0.65490196],\n",
       "        [0.27843137, 0.21568627, 0.16078431],\n",
       "        [0.28235294, 0.20392157, 0.14117647],\n",
       "        ...,\n",
       "        [0.78039216, 0.70588235, 0.63137255],\n",
       "        [0.79607843, 0.71764706, 0.63529412],\n",
       "        [0.56862745, 0.51372549, 0.72156863]],\n",
       "\n",
       "       ...,\n",
       "\n",
       "       [[0.20392157, 0.21568627, 0.79607843],\n",
       "        [0.54117647, 0.56078431, 0.55294118],\n",
       "        [0.5254902 , 0.55294118, 0.5254902 ],\n",
       "        ...,\n",
       "        [0.56862745, 0.54117647, 0.5254902 ],\n",
       "        [0.58039216, 0.55294118, 0.51372549],\n",
       "        [0.42352941, 0.38823529, 0.63921569]],\n",
       "\n",
       "       [[0.21568627, 0.21960784, 0.78823529],\n",
       "        [0.54901961, 0.56862745, 0.56078431],\n",
       "        [0.5372549 , 0.56470588, 0.53333333],\n",
       "        ...,\n",
       "        [0.58431373, 0.54509804, 0.52156863],\n",
       "        [0.59607843, 0.55686275, 0.50196078],\n",
       "        [0.43529412, 0.38823529, 0.63137255]],\n",
       "\n",
       "       [[0.16078431, 0.15294118, 0.84705882],\n",
       "        [0.4       , 0.40784314, 0.65490196],\n",
       "        [0.38823529, 0.41176471, 0.64313725],\n",
       "        ...,\n",
       "        [0.41176471, 0.39607843, 0.65098039],\n",
       "        [0.41568627, 0.4       , 0.63921569],\n",
       "        [0.30196078, 0.27843137, 0.73333333]]])"
      ]
     },
     "execution_count": 13,
     "metadata": {},
     "output_type": "execute_result"
    }
   ],
   "source": [
    "x_train[0]"
   ]
  },
  {
   "cell_type": "code",
   "execution_count": 14,
   "id": "d80cca10",
   "metadata": {
    "scrolled": false
   },
   "outputs": [
    {
     "data": {
      "text/plain": [
       "array([[[0.04313725, 0.03137255, 0.84313725],\n",
       "        [0.09019608, 0.0745098 , 0.64705882],\n",
       "        [0.09803922, 0.07058824, 0.63137255],\n",
       "        ...,\n",
       "        [0.31372549, 0.28235294, 0.84313725],\n",
       "        [0.32156863, 0.29019608, 0.83529412],\n",
       "        [0.22745098, 0.20392157, 0.8745098 ]],\n",
       "\n",
       "       [[0.09019608, 0.08235294, 0.63921569],\n",
       "        [0.24313725, 0.19607843, 0.14509804],\n",
       "        [0.24705882, 0.18039216, 0.1254902 ],\n",
       "        ...,\n",
       "        [0.78431373, 0.72156863, 0.65490196],\n",
       "        [0.80784314, 0.73333333, 0.6627451 ],\n",
       "        [0.58039216, 0.52156863, 0.72156863]],\n",
       "\n",
       "       [[0.11764706, 0.08627451, 0.65490196],\n",
       "        [0.27843137, 0.21960784, 0.15686275],\n",
       "        [0.25490196, 0.21176471, 0.14509804],\n",
       "        ...,\n",
       "        [0.77647059, 0.70588235, 0.63137255],\n",
       "        [0.79215686, 0.71372549, 0.63137255],\n",
       "        [0.56862745, 0.51372549, 0.7254902 ]],\n",
       "\n",
       "       ...,\n",
       "\n",
       "       [[0.21176471, 0.21568627, 0.79215686],\n",
       "        [0.55294118, 0.55294118, 0.55294118],\n",
       "        [0.54509804, 0.54901961, 0.5254902 ],\n",
       "        ...,\n",
       "        [0.58823529, 0.54901961, 0.5372549 ],\n",
       "        [0.58823529, 0.54509804, 0.50980392],\n",
       "        [0.42745098, 0.38431373, 0.64705882]],\n",
       "\n",
       "       [[0.20784314, 0.22352941, 0.79215686],\n",
       "        [0.55294118, 0.57254902, 0.56078431],\n",
       "        [0.54117647, 0.56078431, 0.53333333],\n",
       "        ...,\n",
       "        [0.58431373, 0.55294118, 0.52156863],\n",
       "        [0.58823529, 0.56078431, 0.49803922],\n",
       "        [0.43137255, 0.39215686, 0.63921569]],\n",
       "\n",
       "       [[0.14901961, 0.16078431, 0.85882353],\n",
       "        [0.4       , 0.41568627, 0.65882353],\n",
       "        [0.38823529, 0.40392157, 0.65098039],\n",
       "        ...,\n",
       "        [0.41960784, 0.38823529, 0.65098039],\n",
       "        [0.42745098, 0.39607843, 0.64313725],\n",
       "        [0.31372549, 0.28235294, 0.71764706]]])"
      ]
     },
     "execution_count": 14,
     "metadata": {},
     "output_type": "execute_result"
    }
   ],
   "source": [
    "x_test[0]"
   ]
  },
  {
   "cell_type": "code",
   "execution_count": 15,
   "id": "6b161d28",
   "metadata": {},
   "outputs": [
    {
     "name": "stdout",
     "output_type": "stream",
     "text": [
      "[ 0  0  0 ... 28 28 28]\n",
      "[ 0  0  0  0  1  2  2  2  2  3  3  3  3  3  3  3  4  4  4  5  5  5  5  6\n",
      "  6  6  6  7  7  7  7  8  9 10 11 12 13 14 15 16 17 18 18 18 18 18 20 21\n",
      " 22 23 24 25 26 27 28]\n"
     ]
    }
   ],
   "source": [
    "#defining the labels\n",
    "\n",
    "labels_dict ={\n",
    "    \"A\": 0,\n",
    "    \"B\": 1,\n",
    "    \"C\": 2,\n",
    "    \"D\": 3,\n",
    "    \"del\": 4,\n",
    "    \"E\": 5,\n",
    "    \"F\": 6,\n",
    "    \"G\": 7,\n",
    "    \"H\": 8,\n",
    "    \"I\": 9,\n",
    "    \"J\": 10,\n",
    "    \"K\": 11,\n",
    "    \"L\": 12,\n",
    "    \"M\": 13,\n",
    "    \"N\": 14,\n",
    "    \"nothing\": 15,\n",
    "    \"O\": 16,\n",
    "    \"P\": 17,\n",
    "    \"Q\": 18,\n",
    "    \"R\": 19,\n",
    "    \"S\": 20,\n",
    "    \"space\": 21,\n",
    "    \"T\": 22,\n",
    "    \"U\": 23,\n",
    "    \"V\": 24,\n",
    "    \"W\": 25,\n",
    "    \"X\": 26,\n",
    "    \"Y\": 27,\n",
    "    \"Z\": 28,\n",
    "}\n",
    "\n",
    "def encode_labels(y, labels_dict):\n",
    "\n",
    "    return np.array([labels_dict[label] for label in y])\n",
    "\n",
    "# Encode both y_train and y_test\n",
    "y_train_encoded = encode_labels(y_train, labels_dict)\n",
    "y_test_encoded = encode_labels(y_test, labels_dict)\n",
    "\n",
    "# y_train_encoded and y_test_encoded are now arrays of numerical labels\n",
    "print(y_train_encoded)\n",
    "print(y_test_encoded)\n"
   ]
  },
  {
   "cell_type": "code",
   "execution_count": 16,
   "id": "f90b0918",
   "metadata": {},
   "outputs": [
    {
     "name": "stdout",
     "output_type": "stream",
     "text": [
      "WARNING:tensorflow:From C:\\Users\\gnapika\\AppData\\Local\\Programs\\Python\\Python310\\lib\\site-packages\\keras\\src\\losses.py:2976: The name tf.losses.sparse_softmax_cross_entropy is deprecated. Please use tf.compat.v1.losses.sparse_softmax_cross_entropy instead.\n",
      "\n"
     ]
    }
   ],
   "source": [
    "import tensorflow as tf\n",
    "\n",
    "num_classes = len(labels_dict)  # Total number of classes\n",
    "\n",
    "y_train_one_hot = tf.keras.utils.to_categorical(y_train_encoded, num_classes)\n",
    "y_test_one_hot = tf.keras.utils.to_categorical(y_test_encoded, num_classes)\n"
   ]
  },
  {
   "cell_type": "code",
   "execution_count": 17,
   "id": "526b9bfa",
   "metadata": {},
   "outputs": [
    {
     "name": "stdout",
     "output_type": "stream",
     "text": [
      "WARNING:tensorflow:From C:\\Users\\gnapika\\AppData\\Local\\Programs\\Python\\Python310\\lib\\site-packages\\keras\\src\\backend.py:873: The name tf.get_default_graph is deprecated. Please use tf.compat.v1.get_default_graph instead.\n",
      "\n",
      "WARNING:tensorflow:From C:\\Users\\gnapika\\AppData\\Local\\Programs\\Python\\Python310\\lib\\site-packages\\keras\\src\\layers\\pooling\\max_pooling2d.py:161: The name tf.nn.max_pool is deprecated. Please use tf.nn.max_pool2d instead.\n",
      "\n"
     ]
    }
   ],
   "source": [
    "from tensorflow.keras.models import Sequential\n",
    "from tensorflow.keras.layers import Conv2D, MaxPooling2D, Flatten, BatchNormalization, Dense, LeakyReLU\n",
    "\n",
    "# Assuming input_shape and output_shape are defined elsewhere in your code\n",
    "input_shape=(64,64,3)\n",
    "model= Sequential()\n",
    "\n",
    "# First Convolutional Layer\n",
    "model.add(Conv2D(16, kernel_size=(3, 3), activation='relu', use_bias=True, input_shape=input_shape))\n",
    "model.add(MaxPooling2D(pool_size=(2, 2)))\n",
    "model.add(Conv2D(32, kernel_size=(3, 3),activation='relu',use_bias=True))\n",
    "model.add(Conv2D(64,kernel_size=(3, 3),activation='relu', use_bias=True))\n",
    "model.add(MaxPooling2D(pool_size=(2, 2)))\n",
    "model.add(Flatten())\n",
    "model.add(BatchNormalization())\n",
    "model.add(Dense(128,activation='linear',use_bias=True))\n",
    "model.add(LeakyReLU(alpha=0.01))\n",
    "model.add(Dense(units=num_classes, activation='softmax', use_bias=True))\n"
   ]
  },
  {
   "cell_type": "code",
   "execution_count": 18,
   "id": "f448e96a",
   "metadata": {},
   "outputs": [
    {
     "name": "stdout",
     "output_type": "stream",
     "text": [
      "WARNING:tensorflow:From C:\\Users\\gnapika\\AppData\\Local\\Programs\\Python\\Python310\\lib\\site-packages\\keras\\src\\optimizers\\__init__.py:309: The name tf.train.Optimizer is deprecated. Please use tf.compat.v1.train.Optimizer instead.\n",
      "\n"
     ]
    }
   ],
   "source": [
    "model.compile(optimizer='adam', loss='categorical_crossentropy', metrics=['accuracy'])"
   ]
  },
  {
   "cell_type": "code",
   "execution_count": 19,
   "id": "b232a569",
   "metadata": {},
   "outputs": [
    {
     "name": "stdout",
     "output_type": "stream",
     "text": [
      "Model: \"sequential\"\n",
      "_________________________________________________________________\n",
      " Layer (type)                Output Shape              Param #   \n",
      "=================================================================\n",
      " conv2d (Conv2D)             (None, 62, 62, 16)        448       \n",
      "                                                                 \n",
      " max_pooling2d (MaxPooling2  (None, 31, 31, 16)        0         \n",
      " D)                                                              \n",
      "                                                                 \n",
      " conv2d_1 (Conv2D)           (None, 29, 29, 32)        4640      \n",
      "                                                                 \n",
      " conv2d_2 (Conv2D)           (None, 27, 27, 64)        18496     \n",
      "                                                                 \n",
      " max_pooling2d_1 (MaxPoolin  (None, 13, 13, 64)        0         \n",
      " g2D)                                                            \n",
      "                                                                 \n",
      " flatten (Flatten)           (None, 10816)             0         \n",
      "                                                                 \n",
      " batch_normalization (Batch  (None, 10816)             43264     \n",
      " Normalization)                                                  \n",
      "                                                                 \n",
      " dense (Dense)               (None, 128)               1384576   \n",
      "                                                                 \n",
      " leaky_re_lu (LeakyReLU)     (None, 128)               0         \n",
      "                                                                 \n",
      " dense_1 (Dense)             (None, 29)                3741      \n",
      "                                                                 \n",
      "=================================================================\n",
      "Total params: 1455165 (5.55 MB)\n",
      "Trainable params: 1433533 (5.47 MB)\n",
      "Non-trainable params: 21632 (84.50 KB)\n",
      "_________________________________________________________________\n"
     ]
    }
   ],
   "source": [
    "model.summary()"
   ]
  },
  {
   "cell_type": "code",
   "execution_count": 20,
   "id": "12cd9603",
   "metadata": {},
   "outputs": [
    {
     "name": "stdout",
     "output_type": "stream",
     "text": [
      "Epoch 1/10\n",
      "WARNING:tensorflow:From C:\\Users\\gnapika\\AppData\\Local\\Programs\\Python\\Python310\\lib\\site-packages\\keras\\src\\utils\\tf_utils.py:492: The name tf.ragged.RaggedTensorValue is deprecated. Please use tf.compat.v1.ragged.RaggedTensorValue instead.\n",
      "\n",
      "WARNING:tensorflow:From C:\\Users\\gnapika\\AppData\\Local\\Programs\\Python\\Python310\\lib\\site-packages\\keras\\src\\engine\\base_layer_utils.py:384: The name tf.executing_eagerly_outside_functions is deprecated. Please use tf.compat.v1.executing_eagerly_outside_functions instead.\n",
      "\n",
      "2718/2718 [==============================] - 121s 43ms/step - loss: 0.4356 - accuracy: 0.8658 - val_loss: 0.4775 - val_accuracy: 0.9636\n",
      "Epoch 2/10\n",
      "2718/2718 [==============================] - 110s 41ms/step - loss: 0.0884 - accuracy: 0.9712 - val_loss: 0.7524 - val_accuracy: 0.9818\n",
      "Epoch 3/10\n",
      "2718/2718 [==============================] - 112s 41ms/step - loss: 0.0723 - accuracy: 0.9783 - val_loss: 1.1109 - val_accuracy: 0.9818\n",
      "Epoch 4/10\n",
      "2718/2718 [==============================] - 109s 40ms/step - loss: 0.0529 - accuracy: 0.9841 - val_loss: 1.6229 - val_accuracy: 0.9818\n",
      "Epoch 5/10\n",
      "2718/2718 [==============================] - 110s 40ms/step - loss: 0.0505 - accuracy: 0.9853 - val_loss: 1.7265 - val_accuracy: 0.9818\n",
      "Epoch 6/10\n",
      "2718/2718 [==============================] - 110s 40ms/step - loss: 0.0458 - accuracy: 0.9876 - val_loss: 1.4937 - val_accuracy: 0.9818\n",
      "Epoch 7/10\n",
      "2718/2718 [==============================] - 109s 40ms/step - loss: 0.0427 - accuracy: 0.9887 - val_loss: 1.1593 - val_accuracy: 0.9818\n",
      "Epoch 8/10\n",
      "2718/2718 [==============================] - 109s 40ms/step - loss: 0.0416 - accuracy: 0.9888 - val_loss: 0.9678 - val_accuracy: 0.9818\n",
      "Epoch 9/10\n",
      "2718/2718 [==============================] - 109s 40ms/step - loss: 0.0397 - accuracy: 0.9902 - val_loss: 0.7805 - val_accuracy: 0.9636\n",
      "Epoch 10/10\n",
      "2718/2718 [==============================] - 109s 40ms/step - loss: 0.0405 - accuracy: 0.9904 - val_loss: 2.1360 - val_accuracy: 0.9455\n"
     ]
    }
   ],
   "source": [
    "history = model.fit(x_train , y_train_one_hot, validation_data=(x_test , y_test_one_hot), epochs=10, batch_size=32)\n"
   ]
  },
  {
   "cell_type": "code",
   "execution_count": 21,
   "id": "86277067",
   "metadata": {},
   "outputs": [
    {
     "name": "stderr",
     "output_type": "stream",
     "text": [
      "C:\\Users\\gnapika\\AppData\\Local\\Programs\\Python\\Python310\\lib\\site-packages\\keras\\src\\engine\\training.py:3103: UserWarning: You are saving your model as an HDF5 file via `model.save()`. This file format is considered legacy. We recommend using instead the native Keras format, e.g. `model.save('my_model.keras')`.\n",
      "  saving_api.save_model(\n"
     ]
    }
   ],
   "source": [
    "model.save('my_model.h5')  \n"
   ]
  },
  {
   "cell_type": "code",
   "execution_count": 6,
   "id": "fb7aa882",
   "metadata": {},
   "outputs": [
    {
     "name": "stdout",
     "output_type": "stream",
     "text": [
      "1/1 [==============================] - 0s 85ms/step\n",
      "Predicted Label: F\n"
     ]
    }
   ],
   "source": [
    "from tensorflow.keras.models import load_model\n",
    "from tensorflow.keras.preprocessing import image\n",
    "import numpy as np\n",
    "\n",
    "# Load your trained model\n",
    "model = load_model('my_model.h5')\n",
    "\n",
    "# Load and preprocess the new image\n",
    "img_path = './abc.jpeg'\n",
    "img = image.load_img(img_path, target_size=(64, 64))  # Adjust target size as needed\n",
    "img_array = image.img_to_array(img)\n",
    "img_array = np.expand_dims(img_array, axis=0)\n",
    "img_array /= 255.0  # Normalize pixel values to [0, 1]\n",
    "\n",
    "# Make predictions\n",
    "predictions = model.predict(img_array)\n",
    "\n",
    "# Interpret the predictions\n",
    "predicted_class_index = np.argmax(predictions)\n",
    "predicted_label = [key for key, value in labels_dict.items() if value == predicted_class_index][0]\n",
    "print(\"Predicted Label:\", predicted_label)\n"
   ]
  },
  {
   "cell_type": "code",
   "execution_count": 7,
   "id": "9412fada",
   "metadata": {},
   "outputs": [
    {
     "name": "stdout",
     "output_type": "stream",
     "text": [
      "1/1 [==============================] - 0s 101ms/step\n",
      "1/1 [==============================] - 0s 34ms/step\n",
      "1/1 [==============================] - 0s 27ms/step\n",
      "1/1 [==============================] - 0s 25ms/step\n",
      "1/1 [==============================] - 0s 41ms/step\n",
      "1/1 [==============================] - 0s 48ms/step\n",
      "1/1 [==============================] - 0s 34ms/step\n",
      "1/1 [==============================] - 0s 35ms/step\n",
      "1/1 [==============================] - 0s 24ms/step\n",
      "1/1 [==============================] - 0s 29ms/step\n",
      "1/1 [==============================] - 0s 29ms/step\n",
      "1/1 [==============================] - 0s 25ms/step\n",
      "1/1 [==============================] - 0s 25ms/step\n",
      "1/1 [==============================] - 0s 24ms/step\n",
      "1/1 [==============================] - 0s 23ms/step\n",
      "1/1 [==============================] - 0s 32ms/step\n",
      "1/1 [==============================] - 0s 24ms/step\n",
      "1/1 [==============================] - 0s 23ms/step\n",
      "1/1 [==============================] - 0s 23ms/step\n",
      "1/1 [==============================] - 0s 30ms/step\n",
      "1/1 [==============================] - 0s 45ms/step\n",
      "1/1 [==============================] - 0s 25ms/step\n",
      "1/1 [==============================] - 0s 24ms/step\n",
      "1/1 [==============================] - 0s 22ms/step\n",
      "1/1 [==============================] - 0s 24ms/step\n",
      "1/1 [==============================] - 0s 32ms/step\n",
      "1/1 [==============================] - 0s 24ms/step\n",
      "1/1 [==============================] - 0s 25ms/step\n",
      "1/1 [==============================] - 0s 32ms/step\n",
      "1/1 [==============================] - 0s 33ms/step\n",
      "1/1 [==============================] - 0s 28ms/step\n",
      "1/1 [==============================] - 0s 27ms/step\n",
      "1/1 [==============================] - 0s 23ms/step\n",
      "1/1 [==============================] - 0s 30ms/step\n",
      "1/1 [==============================] - 0s 25ms/step\n",
      "1/1 [==============================] - 0s 34ms/step\n",
      "1/1 [==============================] - 0s 24ms/step\n",
      "1/1 [==============================] - 0s 27ms/step\n",
      "1/1 [==============================] - 0s 33ms/step\n",
      "1/1 [==============================] - 0s 22ms/step\n",
      "1/1 [==============================] - 0s 23ms/step\n",
      "1/1 [==============================] - 0s 22ms/step\n",
      "1/1 [==============================] - 0s 30ms/step\n",
      "1/1 [==============================] - 0s 41ms/step\n",
      "1/1 [==============================] - 0s 22ms/step\n",
      "1/1 [==============================] - 0s 37ms/step\n",
      "1/1 [==============================] - 0s 23ms/step\n",
      "1/1 [==============================] - 0s 20ms/step\n",
      "1/1 [==============================] - 0s 21ms/step\n",
      "1/1 [==============================] - 0s 22ms/step\n",
      "1/1 [==============================] - 0s 21ms/step\n",
      "1/1 [==============================] - 0s 22ms/step\n",
      "1/1 [==============================] - 0s 20ms/step\n",
      "1/1 [==============================] - 0s 21ms/step\n",
      "1/1 [==============================] - 0s 21ms/step\n",
      "1/1 [==============================] - 0s 22ms/step\n",
      "1/1 [==============================] - 0s 21ms/step\n",
      "1/1 [==============================] - 0s 19ms/step\n",
      "1/1 [==============================] - 0s 18ms/step\n",
      "1/1 [==============================] - 0s 19ms/step\n",
      "1/1 [==============================] - 0s 18ms/step\n",
      "1/1 [==============================] - 0s 21ms/step\n",
      "1/1 [==============================] - 0s 19ms/step\n",
      "1/1 [==============================] - 0s 19ms/step\n",
      "1/1 [==============================] - 0s 18ms/step\n",
      "1/1 [==============================] - 0s 20ms/step\n",
      "1/1 [==============================] - 0s 18ms/step\n",
      "1/1 [==============================] - 0s 18ms/step\n",
      "1/1 [==============================] - 0s 18ms/step\n",
      "1/1 [==============================] - 0s 16ms/step\n",
      "1/1 [==============================] - 0s 18ms/step\n",
      "1/1 [==============================] - 0s 17ms/step\n",
      "1/1 [==============================] - 0s 19ms/step\n",
      "1/1 [==============================] - 0s 16ms/step\n",
      "1/1 [==============================] - 0s 18ms/step\n",
      "1/1 [==============================] - 0s 19ms/step\n",
      "1/1 [==============================] - 0s 19ms/step\n",
      "1/1 [==============================] - 0s 18ms/step\n",
      "1/1 [==============================] - 0s 17ms/step\n",
      "1/1 [==============================] - 0s 18ms/step\n",
      "1/1 [==============================] - 0s 19ms/step\n",
      "1/1 [==============================] - 0s 18ms/step\n",
      "1/1 [==============================] - 0s 18ms/step\n",
      "1/1 [==============================] - 0s 17ms/step\n",
      "1/1 [==============================] - 0s 19ms/step\n",
      "1/1 [==============================] - 0s 16ms/step\n",
      "1/1 [==============================] - 0s 17ms/step\n",
      "1/1 [==============================] - 0s 18ms/step\n",
      "1/1 [==============================] - 0s 21ms/step\n",
      "1/1 [==============================] - 0s 20ms/step\n",
      "1/1 [==============================] - 0s 19ms/step\n",
      "1/1 [==============================] - 0s 19ms/step\n",
      "1/1 [==============================] - 0s 19ms/step\n",
      "1/1 [==============================] - 0s 19ms/step\n",
      "1/1 [==============================] - 0s 20ms/step\n",
      "1/1 [==============================] - 0s 20ms/step\n",
      "1/1 [==============================] - 0s 19ms/step\n",
      "1/1 [==============================] - 0s 19ms/step\n",
      "1/1 [==============================] - 0s 17ms/step\n",
      "1/1 [==============================] - 0s 17ms/step\n",
      "1/1 [==============================] - 0s 17ms/step\n",
      "1/1 [==============================] - 0s 18ms/step\n",
      "1/1 [==============================] - 0s 18ms/step\n",
      "1/1 [==============================] - 0s 19ms/step\n",
      "1/1 [==============================] - 0s 20ms/step\n",
      "1/1 [==============================] - 0s 21ms/step\n",
      "1/1 [==============================] - 0s 21ms/step\n",
      "1/1 [==============================] - 0s 20ms/step\n",
      "1/1 [==============================] - 0s 20ms/step\n",
      "1/1 [==============================] - 0s 17ms/step\n",
      "1/1 [==============================] - 0s 17ms/step\n",
      "1/1 [==============================] - 0s 18ms/step\n",
      "1/1 [==============================] - 0s 22ms/step\n",
      "1/1 [==============================] - 0s 19ms/step\n",
      "1/1 [==============================] - 0s 20ms/step\n",
      "1/1 [==============================] - 0s 18ms/step\n",
      "1/1 [==============================] - 0s 17ms/step\n",
      "1/1 [==============================] - 0s 19ms/step\n",
      "1/1 [==============================] - 0s 18ms/step\n",
      "1/1 [==============================] - 0s 18ms/step\n",
      "1/1 [==============================] - 0s 20ms/step\n",
      "1/1 [==============================] - 0s 18ms/step\n",
      "1/1 [==============================] - 0s 19ms/step\n",
      "1/1 [==============================] - 0s 20ms/step\n",
      "1/1 [==============================] - 0s 20ms/step\n",
      "1/1 [==============================] - 0s 21ms/step\n",
      "1/1 [==============================] - 0s 19ms/step\n",
      "1/1 [==============================] - 0s 24ms/step\n",
      "1/1 [==============================] - 0s 27ms/step\n",
      "1/1 [==============================] - 0s 21ms/step\n",
      "1/1 [==============================] - 0s 20ms/step\n",
      "1/1 [==============================] - 0s 20ms/step\n",
      "1/1 [==============================] - 0s 21ms/step\n",
      "1/1 [==============================] - 0s 20ms/step\n",
      "1/1 [==============================] - 0s 19ms/step\n",
      "1/1 [==============================] - 0s 20ms/step\n",
      "1/1 [==============================] - 0s 20ms/step\n",
      "1/1 [==============================] - 0s 18ms/step\n",
      "1/1 [==============================] - 0s 19ms/step\n",
      "1/1 [==============================] - 0s 18ms/step\n",
      "1/1 [==============================] - 0s 19ms/step\n",
      "1/1 [==============================] - 0s 18ms/step\n",
      "1/1 [==============================] - 0s 17ms/step\n",
      "1/1 [==============================] - 0s 17ms/step\n",
      "1/1 [==============================] - 0s 18ms/step\n",
      "1/1 [==============================] - 0s 18ms/step\n",
      "1/1 [==============================] - 0s 19ms/step\n",
      "1/1 [==============================] - 0s 19ms/step\n",
      "1/1 [==============================] - 0s 19ms/step\n",
      "1/1 [==============================] - 0s 21ms/step\n",
      "1/1 [==============================] - 0s 18ms/step\n",
      "1/1 [==============================] - 0s 17ms/step\n",
      "1/1 [==============================] - 0s 18ms/step\n",
      "1/1 [==============================] - 0s 18ms/step\n",
      "1/1 [==============================] - 0s 17ms/step\n",
      "1/1 [==============================] - 0s 18ms/step\n",
      "1/1 [==============================] - 0s 19ms/step\n"
     ]
    },
    {
     "name": "stdout",
     "output_type": "stream",
     "text": [
      "1/1 [==============================] - 0s 19ms/step\n",
      "1/1 [==============================] - 0s 18ms/step\n",
      "1/1 [==============================] - 0s 18ms/step\n",
      "1/1 [==============================] - 0s 19ms/step\n",
      "1/1 [==============================] - 0s 20ms/step\n",
      "1/1 [==============================] - 0s 19ms/step\n",
      "1/1 [==============================] - 0s 18ms/step\n",
      "1/1 [==============================] - 0s 17ms/step\n",
      "1/1 [==============================] - 0s 17ms/step\n",
      "1/1 [==============================] - 0s 17ms/step\n",
      "1/1 [==============================] - 0s 17ms/step\n",
      "1/1 [==============================] - 0s 17ms/step\n",
      "1/1 [==============================] - 0s 19ms/step\n",
      "1/1 [==============================] - 0s 17ms/step\n",
      "1/1 [==============================] - 0s 18ms/step\n",
      "1/1 [==============================] - 0s 22ms/step\n",
      "1/1 [==============================] - 0s 19ms/step\n",
      "1/1 [==============================] - 0s 19ms/step\n",
      "1/1 [==============================] - 0s 20ms/step\n",
      "1/1 [==============================] - 0s 19ms/step\n",
      "1/1 [==============================] - 0s 20ms/step\n",
      "1/1 [==============================] - 0s 20ms/step\n",
      "1/1 [==============================] - 0s 19ms/step\n",
      "1/1 [==============================] - 0s 18ms/step\n",
      "1/1 [==============================] - 0s 19ms/step\n",
      "1/1 [==============================] - 0s 17ms/step\n",
      "1/1 [==============================] - 0s 18ms/step\n",
      "1/1 [==============================] - 0s 20ms/step\n",
      "1/1 [==============================] - 0s 18ms/step\n",
      "1/1 [==============================] - 0s 18ms/step\n",
      "1/1 [==============================] - 0s 18ms/step\n",
      "1/1 [==============================] - 0s 18ms/step\n",
      "1/1 [==============================] - 0s 18ms/step\n",
      "1/1 [==============================] - 0s 18ms/step\n",
      "1/1 [==============================] - 0s 18ms/step\n",
      "1/1 [==============================] - 0s 17ms/step\n",
      "1/1 [==============================] - 0s 21ms/step\n",
      "1/1 [==============================] - 0s 19ms/step\n",
      "1/1 [==============================] - 0s 19ms/step\n",
      "1/1 [==============================] - 0s 19ms/step\n",
      "1/1 [==============================] - 0s 18ms/step\n",
      "1/1 [==============================] - 0s 19ms/step\n",
      "1/1 [==============================] - 0s 18ms/step\n",
      "1/1 [==============================] - 0s 20ms/step\n",
      "1/1 [==============================] - 0s 19ms/step\n",
      "1/1 [==============================] - 0s 19ms/step\n",
      "1/1 [==============================] - 0s 20ms/step\n",
      "1/1 [==============================] - 0s 18ms/step\n",
      "1/1 [==============================] - 0s 16ms/step\n",
      "1/1 [==============================] - 0s 18ms/step\n",
      "1/1 [==============================] - 0s 18ms/step\n",
      "1/1 [==============================] - 0s 20ms/step\n",
      "1/1 [==============================] - 0s 19ms/step\n",
      "1/1 [==============================] - 0s 20ms/step\n",
      "1/1 [==============================] - 0s 19ms/step\n",
      "1/1 [==============================] - 0s 17ms/step\n",
      "1/1 [==============================] - 0s 18ms/step\n",
      "1/1 [==============================] - 0s 19ms/step\n",
      "1/1 [==============================] - 0s 19ms/step\n",
      "1/1 [==============================] - 0s 18ms/step\n",
      "1/1 [==============================] - 0s 18ms/step\n",
      "1/1 [==============================] - 0s 17ms/step\n",
      "1/1 [==============================] - 0s 19ms/step\n",
      "1/1 [==============================] - 0s 20ms/step\n",
      "1/1 [==============================] - 0s 20ms/step\n",
      "1/1 [==============================] - 0s 20ms/step\n",
      "1/1 [==============================] - 0s 19ms/step\n",
      "1/1 [==============================] - 0s 17ms/step\n",
      "1/1 [==============================] - 0s 18ms/step\n",
      "1/1 [==============================] - 0s 18ms/step\n",
      "1/1 [==============================] - 0s 18ms/step\n",
      "1/1 [==============================] - 0s 18ms/step\n",
      "1/1 [==============================] - 0s 19ms/step\n",
      "1/1 [==============================] - 0s 19ms/step\n",
      "1/1 [==============================] - 0s 18ms/step\n",
      "1/1 [==============================] - 0s 19ms/step\n",
      "1/1 [==============================] - 0s 18ms/step\n",
      "1/1 [==============================] - 0s 19ms/step\n",
      "1/1 [==============================] - 0s 20ms/step\n",
      "1/1 [==============================] - 0s 19ms/step\n",
      "1/1 [==============================] - 0s 20ms/step\n",
      "1/1 [==============================] - 0s 19ms/step\n",
      "1/1 [==============================] - 0s 20ms/step\n",
      "1/1 [==============================] - 0s 19ms/step\n",
      "1/1 [==============================] - 0s 17ms/step\n",
      "1/1 [==============================] - 0s 18ms/step\n",
      "1/1 [==============================] - 0s 17ms/step\n",
      "1/1 [==============================] - 0s 18ms/step\n",
      "1/1 [==============================] - 0s 18ms/step\n",
      "1/1 [==============================] - 0s 18ms/step\n",
      "1/1 [==============================] - 0s 20ms/step\n",
      "1/1 [==============================] - 0s 18ms/step\n",
      "1/1 [==============================] - 0s 17ms/step\n",
      "1/1 [==============================] - 0s 18ms/step\n",
      "1/1 [==============================] - 0s 18ms/step\n",
      "1/1 [==============================] - 0s 18ms/step\n",
      "1/1 [==============================] - 0s 19ms/step\n",
      "1/1 [==============================] - 0s 19ms/step\n",
      "1/1 [==============================] - 0s 20ms/step\n",
      "1/1 [==============================] - 0s 19ms/step\n",
      "1/1 [==============================] - 0s 18ms/step\n",
      "1/1 [==============================] - 0s 19ms/step\n",
      "1/1 [==============================] - 0s 20ms/step\n",
      "1/1 [==============================] - 0s 19ms/step\n",
      "1/1 [==============================] - 0s 19ms/step\n",
      "1/1 [==============================] - 0s 20ms/step\n",
      "1/1 [==============================] - 0s 19ms/step\n",
      "1/1 [==============================] - 0s 20ms/step\n",
      "1/1 [==============================] - 0s 20ms/step\n",
      "1/1 [==============================] - 0s 19ms/step\n",
      "1/1 [==============================] - 0s 19ms/step\n",
      "1/1 [==============================] - 0s 18ms/step\n",
      "1/1 [==============================] - 0s 18ms/step\n",
      "1/1 [==============================] - 0s 18ms/step\n",
      "1/1 [==============================] - 0s 18ms/step\n",
      "1/1 [==============================] - 0s 18ms/step\n",
      "1/1 [==============================] - 0s 20ms/step\n",
      "1/1 [==============================] - 0s 18ms/step\n",
      "1/1 [==============================] - 0s 19ms/step\n",
      "1/1 [==============================] - 0s 18ms/step\n",
      "1/1 [==============================] - 0s 18ms/step\n",
      "1/1 [==============================] - 0s 18ms/step\n",
      "1/1 [==============================] - 0s 18ms/step\n",
      "1/1 [==============================] - 0s 17ms/step\n",
      "1/1 [==============================] - 0s 18ms/step\n",
      "1/1 [==============================] - 0s 19ms/step\n",
      "1/1 [==============================] - 0s 18ms/step\n",
      "1/1 [==============================] - 0s 18ms/step\n",
      "1/1 [==============================] - 0s 19ms/step\n",
      "1/1 [==============================] - 0s 18ms/step\n",
      "1/1 [==============================] - 0s 21ms/step\n",
      "1/1 [==============================] - 0s 18ms/step\n",
      "1/1 [==============================] - 0s 21ms/step\n",
      "1/1 [==============================] - 0s 22ms/step\n",
      "1/1 [==============================] - 0s 19ms/step\n",
      "1/1 [==============================] - 0s 19ms/step\n",
      "1/1 [==============================] - 0s 19ms/step\n",
      "1/1 [==============================] - 0s 19ms/step\n",
      "1/1 [==============================] - 0s 17ms/step\n",
      "1/1 [==============================] - 0s 18ms/step\n",
      "1/1 [==============================] - 0s 17ms/step\n",
      "1/1 [==============================] - 0s 17ms/step\n",
      "1/1 [==============================] - 0s 18ms/step\n",
      "1/1 [==============================] - 0s 20ms/step\n",
      "1/1 [==============================] - 0s 20ms/step\n",
      "1/1 [==============================] - 0s 23ms/step\n",
      "1/1 [==============================] - 0s 22ms/step\n",
      "1/1 [==============================] - 0s 22ms/step\n",
      "1/1 [==============================] - 0s 24ms/step\n",
      "1/1 [==============================] - 0s 22ms/step\n",
      "1/1 [==============================] - 0s 21ms/step\n",
      "1/1 [==============================] - 0s 20ms/step\n",
      "1/1 [==============================] - 0s 21ms/step\n",
      "1/1 [==============================] - 0s 20ms/step\n",
      "1/1 [==============================] - 0s 20ms/step\n",
      "1/1 [==============================] - 0s 19ms/step\n",
      "1/1 [==============================] - 0s 21ms/step\n"
     ]
    },
    {
     "name": "stdout",
     "output_type": "stream",
     "text": [
      "1/1 [==============================] - 0s 21ms/step\n",
      "1/1 [==============================] - 0s 21ms/step\n",
      "1/1 [==============================] - 0s 20ms/step\n",
      "1/1 [==============================] - 0s 20ms/step\n",
      "1/1 [==============================] - 0s 20ms/step\n",
      "1/1 [==============================] - 0s 19ms/step\n",
      "1/1 [==============================] - 0s 17ms/step\n",
      "1/1 [==============================] - 0s 20ms/step\n",
      "1/1 [==============================] - 0s 23ms/step\n",
      "1/1 [==============================] - 0s 19ms/step\n",
      "1/1 [==============================] - 0s 21ms/step\n",
      "1/1 [==============================] - 0s 18ms/step\n",
      "1/1 [==============================] - 0s 19ms/step\n",
      "1/1 [==============================] - 0s 19ms/step\n",
      "1/1 [==============================] - 0s 20ms/step\n",
      "1/1 [==============================] - 0s 22ms/step\n",
      "1/1 [==============================] - 0s 18ms/step\n",
      "1/1 [==============================] - 0s 21ms/step\n",
      "1/1 [==============================] - 0s 21ms/step\n",
      "1/1 [==============================] - 0s 22ms/step\n",
      "1/1 [==============================] - 0s 20ms/step\n",
      "1/1 [==============================] - 0s 22ms/step\n",
      "1/1 [==============================] - 0s 20ms/step\n",
      "1/1 [==============================] - 0s 22ms/step\n",
      "1/1 [==============================] - 0s 21ms/step\n",
      "1/1 [==============================] - 0s 20ms/step\n",
      "1/1 [==============================] - 0s 21ms/step\n",
      "1/1 [==============================] - 0s 20ms/step\n",
      "1/1 [==============================] - 0s 22ms/step\n",
      "1/1 [==============================] - 0s 20ms/step\n",
      "1/1 [==============================] - 0s 20ms/step\n",
      "1/1 [==============================] - 0s 22ms/step\n",
      "1/1 [==============================] - 0s 22ms/step\n",
      "1/1 [==============================] - 0s 21ms/step\n",
      "1/1 [==============================] - 0s 18ms/step\n",
      "1/1 [==============================] - 0s 20ms/step\n",
      "1/1 [==============================] - 0s 19ms/step\n",
      "1/1 [==============================] - 0s 19ms/step\n",
      "1/1 [==============================] - 0s 19ms/step\n",
      "1/1 [==============================] - 0s 18ms/step\n",
      "1/1 [==============================] - 0s 19ms/step\n",
      "1/1 [==============================] - 0s 19ms/step\n",
      "1/1 [==============================] - 0s 18ms/step\n",
      "1/1 [==============================] - 0s 18ms/step\n",
      "1/1 [==============================] - 0s 18ms/step\n",
      "1/1 [==============================] - 0s 19ms/step\n",
      "1/1 [==============================] - 0s 18ms/step\n",
      "1/1 [==============================] - 0s 17ms/step\n",
      "1/1 [==============================] - 0s 18ms/step\n",
      "1/1 [==============================] - 0s 19ms/step\n",
      "1/1 [==============================] - 0s 19ms/step\n",
      "1/1 [==============================] - 0s 18ms/step\n",
      "1/1 [==============================] - 0s 19ms/step\n",
      "1/1 [==============================] - 0s 18ms/step\n",
      "1/1 [==============================] - 0s 19ms/step\n",
      "1/1 [==============================] - 0s 18ms/step\n",
      "1/1 [==============================] - 0s 18ms/step\n",
      "1/1 [==============================] - 0s 18ms/step\n",
      "1/1 [==============================] - 0s 19ms/step\n",
      "1/1 [==============================] - 0s 20ms/step\n",
      "1/1 [==============================] - 0s 19ms/step\n",
      "1/1 [==============================] - 0s 18ms/step\n",
      "1/1 [==============================] - 0s 17ms/step\n",
      "1/1 [==============================] - 0s 20ms/step\n",
      "1/1 [==============================] - 0s 18ms/step\n",
      "1/1 [==============================] - 0s 20ms/step\n",
      "1/1 [==============================] - 0s 19ms/step\n",
      "1/1 [==============================] - 0s 20ms/step\n",
      "1/1 [==============================] - 0s 20ms/step\n",
      "1/1 [==============================] - 0s 19ms/step\n",
      "1/1 [==============================] - 0s 20ms/step\n",
      "1/1 [==============================] - 0s 18ms/step\n",
      "1/1 [==============================] - 0s 19ms/step\n",
      "1/1 [==============================] - 0s 20ms/step\n",
      "1/1 [==============================] - 0s 18ms/step\n",
      "1/1 [==============================] - 0s 19ms/step\n",
      "1/1 [==============================] - 0s 18ms/step\n",
      "1/1 [==============================] - 0s 19ms/step\n",
      "1/1 [==============================] - 0s 18ms/step\n"
     ]
    }
   ],
   "source": [
    "import cv2\n",
    "import numpy as np\n",
    "model = load_model('my_model.h5')\n",
    "\n",
    "# Open the camera (camera index 0 by default)\n",
    "cap = cv2.VideoCapture(0)\n",
    "\n",
    "# Check if the camera opened successfully\n",
    "if not cap.isOpened():\n",
    "    print(\"Error: Could not open camera.\")\n",
    "    exit()\n",
    "\n",
    "while True:\n",
    "    # Capture frame-by-frame\n",
    "    ret, frame = cap.read()\n",
    "\n",
    "    # Check if the frame is empty\n",
    "    if not ret:\n",
    "        print(\"Error: Failed to capture frame.\")\n",
    "        break\n",
    "\n",
    "    # Resize the frame to match the input size of your model\n",
    "    img = cv2.resize(frame, (64, 64))\n",
    "\n",
    "    # Normalize pixel values to [0, 1]\n",
    "    img_array = img / 255.0  # Use the original resized frame\n",
    "\n",
    "    # Expand dimensions to match the input shape expected by the model\n",
    "    img_array = np.expand_dims(img_array, axis=0)\n",
    "\n",
    "    # Make predictions\n",
    "    predictions = model.predict(img_array)\n",
    "\n",
    "    # Interpret the predictions\n",
    "    predicted_class_index = np.argmax(predictions)\n",
    "    predicted_label = [key for key, value in labels_dict.items() if value == predicted_class_index][0]\n",
    "\n",
    "    # Display the frame with the predicted label\n",
    "    cv2.putText(frame, f'Predicted Label: {predicted_label}', (10, 30), cv2.FONT_HERSHEY_SIMPLEX, 1, (0, 255, 0), 2)\n",
    "    cv2.imshow('Sign Classification', frame)\n",
    "\n",
    "    # Break the loop when 'q' is pressed\n",
    "    if cv2.waitKey(1) & 0xFF == ord('q'):\n",
    "        break\n",
    "\n",
    "# Release the camera and close all windows\n",
    "cap.release()\n",
    "cv2.destroyAllWindows()\n"
   ]
  },
  {
   "cell_type": "code",
   "execution_count": null,
   "id": "2246292b",
   "metadata": {},
   "outputs": [],
   "source": []
  }
 ],
 "metadata": {
  "kernelspec": {
   "display_name": "Python 3 (ipykernel)",
   "language": "python",
   "name": "python3"
  },
  "language_info": {
   "codemirror_mode": {
    "name": "ipython",
    "version": 3
   },
   "file_extension": ".py",
   "mimetype": "text/x-python",
   "name": "python",
   "nbconvert_exporter": "python",
   "pygments_lexer": "ipython3",
   "version": "3.10.11"
  }
 },
 "nbformat": 4,
 "nbformat_minor": 5
}
